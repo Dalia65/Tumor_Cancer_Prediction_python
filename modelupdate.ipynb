{
  "nbformat": 4,
  "nbformat_minor": 0,
  "metadata": {
    "colab": {
      "provenance": [],
      "authorship_tag": "ABX9TyN7YsSX8TS0t/rnaJtPPfKy",
      "include_colab_link": true
    },
    "kernelspec": {
      "name": "python3",
      "display_name": "Python 3"
    },
    "language_info": {
      "name": "python"
    }
  },
  "cells": [
    {
      "cell_type": "markdown",
      "metadata": {
        "id": "view-in-github",
        "colab_type": "text"
      },
      "source": [
        "<a href=\"https://colab.research.google.com/github/Dalia65/Tumor_Cancer_Prediction_python/blob/main/modelupdate.ipynb\" target=\"_parent\"><img src=\"https://colab.research.google.com/assets/colab-badge.svg\" alt=\"Open In Colab\"/></a>"
      ]
    },
    {
      "cell_type": "code",
      "execution_count": null,
      "metadata": {
        "id": "PZOgNr0qXHsc"
      },
      "outputs": [],
      "source": [
        "import pandas                   as pd\n",
        "import matplotlib.pyplot        as plt\n",
        "import seaborn                  as sns\n",
        "from   sklearn                  import preprocessing ,metrics\n",
        "from   sklearn.model_selection  import train_test_split\n",
        "from sklearn.metrics            import classification_report, confusion_matrix, accuracy_score\n",
        "from sklearn.linear_model       import LogisticRegression\n",
        "from sklearn                    import ensemble\n",
        "from sklearn.naive_bayes        import GaussianNB\n",
        "from sklearn.ensemble           import VotingClassifier\n",
        "from sklearn.neighbors          import KNeighborsClassifier\n",
        "#import joblib"
      ]
    },
    {
      "cell_type": "code",
      "source": [
        "\n",
        "class preprocess : \n",
        "    def preprocessingg(self,file):\n",
        "      \n",
        "      df=pd.read_csv(file)\n",
        "      df=df.dropna()\n",
        "      print(\"Null Values Are:    \")\n",
        "      print(df.isnull().sum())\n",
        "      print(\"Duplicated Values Are:    \")\n",
        "      print (df.duplicated())\n",
        "      df[\"diagnosis\"] = df[\"diagnosis\"].map({\"B\": 0, \"M\": 1})\n",
        "      corr= df.corr()\n",
        "      print(\"The Correlation Between Features are:    \")\n",
        "      print(df.corr())\n",
        "      #representation of data and grouping \n",
        "      fig, ax = plt.subplots(figsize=(12, 10))\n",
        "      sns.heatmap(df.corr(), ax=ax)\n",
        "      print(df.groupby('diagnosis').size())\n",
        "      sns.countplot(df['diagnosis'],label=\"Count\")\n",
        "      plt.show()\n",
        "      return df\n",
        "#FEATURE SELECTIONN\n",
        "\n",
        "    def dtraininput(self,df):\n",
        "        x = df.drop(columns=['diagnosis','Index'])\n",
        "        return x\n",
        "        #x=f1 to f30\n",
        "    def dtrainoutput(self,df):\n",
        "        y = df['diagnosis']\n",
        "        return y\n",
        "        #y=diagnosis\n",
        "    "
      ],
      "metadata": {
        "id": "JusMEap_XLEy"
      },
      "execution_count": null,
      "outputs": []
    },
    {
      "cell_type": "code",
      "source": [
        "class Classification: \n",
        "    def secoundmodel(self,x_train,y_train):\n",
        "      knn = KNeighborsClassifier(n_neighbors=7)\n",
        "      knn.fit(x_train, y_train) \n",
        "      return knn   \n",
        "    def thirdmodel(self,x_train,y_train):\n",
        "      llf = LogisticRegression()\n",
        "      llf.fit(x_train,y_train)\n",
        "      return llf\n",
        "    def bounsmodel2(self,x_train,y_train):\n",
        "      gnb = GaussianNB()\n",
        "      gnb.fit(x_train, y_train)\n",
        "      return gnb\n",
        "    "
      ],
      "metadata": {
        "id": "q9wvhTSJYioJ"
      },
      "execution_count": null,
      "outputs": []
    },
    {
      "cell_type": "code",
      "source": [
        "class Evaluation: \n",
        "    def tmodel(self,x_test,y_test,model):\n",
        "       y_pred= model.predict(x_test)\n",
        "       accuracy = accuracy_score(y_test,y_pred)  \n",
        "       return accuracy"
      ],
      "metadata": {
        "id": "P5iYec8ZYlNa"
      },
      "execution_count": null,
      "outputs": []
    },
    {
      "cell_type": "code",
      "source": [
        "class Input:\n",
        "     def input(self , infile,model):\n",
        "        indf=pd.read_csv(infile)\n",
        "        mydata = indf.drop(columns=['diagnosis','Index'])\n",
        "        y_pred= model.predict(mydata)\n",
        "        return mydata,y_pred"
      ],
      "metadata": {
        "id": "y39u4yphzrwq"
      },
      "execution_count": null,
      "outputs": []
    },
    {
      "cell_type": "code",
      "source": [
        "file=(\"/content/Tumor Cancer Prediction_Data.csv\")\n",
        "dataframe=preprocess()\n",
        "df=dataframe.preprocessingg(file)\n"
      ],
      "metadata": {
        "colab": {
          "base_uri": "https://localhost:8080/",
          "height": 1000
        },
        "id": "Px2t3tnlYrn0",
        "outputId": "edae8278-d10a-4339-d63a-d2cba747ad9c"
      },
      "execution_count": null,
      "outputs": [
        {
          "output_type": "stream",
          "name": "stdout",
          "text": [
            "Null Values Are:    \n",
            "Index        0\n",
            "F1           0\n",
            "F2           0\n",
            "F3           0\n",
            "F4           0\n",
            "F5           0\n",
            "F6           0\n",
            "F7           0\n",
            "F8           0\n",
            "F9           0\n",
            "F10          0\n",
            "F11          0\n",
            "F12          0\n",
            "F13          0\n",
            "F14          0\n",
            "F15          0\n",
            "F16          0\n",
            "F17          0\n",
            "F18          0\n",
            "F19          0\n",
            "F20          0\n",
            "F21          0\n",
            "F22          0\n",
            "F23          0\n",
            "F24          0\n",
            "F25          0\n",
            "F26          0\n",
            "F27          0\n",
            "F28          0\n",
            "F29          0\n",
            "F30          0\n",
            "diagnosis    0\n",
            "dtype: int64\n",
            "Duplicated Values Are:    \n",
            "0      False\n",
            "1      False\n",
            "2      False\n",
            "3      False\n",
            "4      False\n",
            "       ...  \n",
            "450    False\n",
            "451    False\n",
            "452    False\n",
            "453    False\n",
            "454    False\n",
            "Length: 455, dtype: bool\n",
            "The Correlation Between Features are:    \n",
            "              Index        F1        F2        F3        F4        F5  \\\n",
            "Index      1.000000  0.067100  0.074453  0.087485  0.077638 -0.025207   \n",
            "F1         0.067100  1.000000  0.337090  0.138461  0.367159  0.289116   \n",
            "F2         0.074453  0.337090  1.000000  0.316083  0.998185 -0.131112   \n",
            "F3         0.087485  0.138461  0.316083  1.000000  0.322445 -0.011331   \n",
            "F4         0.077638  0.367159  0.998185  0.322445  1.000000 -0.113737   \n",
            "F5        -0.025207  0.289116 -0.131112 -0.011331 -0.113737  1.000000   \n",
            "F6        -0.008079  0.371415  0.164226 -0.023107  0.197597  0.190091   \n",
            "F7        -0.022445  0.226148  0.116935  0.093454  0.145972 -0.020608   \n",
            "F8         0.087091  0.641033  0.508985  0.241977  0.555299  0.188297   \n",
            "F9         0.084682  0.689313  0.669625  0.298975  0.705993  0.148760   \n",
            "F10        0.031649  0.769382  0.134351  0.115727  0.164918  0.294921   \n",
            "F11        0.088461  0.600496  0.823662  0.292473  0.850247  0.066280   \n",
            "F12        0.079375  0.738880  0.174817  0.187780  0.216026  0.394526   \n",
            "F13        0.047582  0.329664 -0.004484  0.115940  0.035518  0.084569   \n",
            "F14        0.002029  0.408775  0.130193  0.064376  0.161548  0.443154   \n",
            "F15       -0.014699  0.357160 -0.330992 -0.071964 -0.286012  0.333950   \n",
            "F16        0.074373  0.313778  0.941185  0.348051  0.941920 -0.134139   \n",
            "F17        0.070254  0.490546  0.687831  0.274250  0.699386  0.228603   \n",
            "F18       -0.032812  0.155259  0.149669  0.098803  0.171204  0.388952   \n",
            "F19        0.080139  0.451559  0.403744  0.273151  0.442236  0.042031   \n",
            "F20        0.054977  0.203490 -0.133134  0.391945 -0.122660  0.383717   \n",
            "F21        0.082089  0.511052  0.684132  0.279962  0.700160  0.228106   \n",
            "F22        0.070569  0.384153  0.736629  0.258296  0.745369  0.116955   \n",
            "F23       -0.038092  0.320539 -0.233293  0.005236 -0.212220  0.452674   \n",
            "F24        0.062603  0.570797  0.511501  0.298302  0.545424  0.018609   \n",
            "F25        0.054053  0.630562 -0.050336  0.045517 -0.016077  0.386911   \n",
            "F26        0.075473  0.326320  0.969537  0.349677  0.969520 -0.152792   \n",
            "F27        0.072536  0.068094  0.281647  0.908182  0.288406 -0.103741   \n",
            "F28        0.083133  0.359068  0.966220  0.354636  0.970507 -0.136766   \n",
            "F29        0.072381  0.334977  0.987094  0.318626  0.986692 -0.097331   \n",
            "F30        0.066628  0.595372  0.736397  0.289088  0.762361 -0.051812   \n",
            "diagnosis  0.069992  0.382164  0.724320  0.409289  0.736496 -0.014406   \n",
            "\n",
            "                 F6        F7        F8        F9  ...       F22       F23  \\\n",
            "Index     -0.008079 -0.022445  0.087091  0.084682  ...  0.070569 -0.038092   \n",
            "F1         0.371415  0.226148  0.641033  0.689313  ...  0.384153  0.320539   \n",
            "F2         0.164226  0.116935  0.508985  0.669625  ...  0.736629 -0.233293   \n",
            "F3        -0.023107  0.093454  0.241977  0.298975  ...  0.258296  0.005236   \n",
            "F4         0.197597  0.145972  0.555299  0.705993  ...  0.745369 -0.212220   \n",
            "F5         0.190091 -0.020608  0.188297  0.148760  ...  0.116955  0.452674   \n",
            "F6         1.000000  0.800811  0.643792  0.503715  ...  0.237709  0.361200   \n",
            "F7         0.800811  1.000000  0.577326  0.442474  ...  0.112663  0.339360   \n",
            "F8         0.643792  0.577326  1.000000  0.879782  ...  0.448349  0.164984   \n",
            "F9         0.503715  0.442474  0.879782  1.000000  ...  0.611714  0.113273   \n",
            "F10        0.219063  0.154529  0.534107  0.667334  ...  0.228637  0.261946   \n",
            "F11        0.540170  0.447236  0.832933  0.914627  ...  0.684406  0.039861   \n",
            "F12        0.296529  0.234201  0.726166  0.657862  ...  0.253887  0.337569   \n",
            "F13        0.487641  0.629921  0.685937  0.506538  ... -0.003095  0.128695   \n",
            "F14        0.536098  0.410912  0.583548  0.477989  ...  0.195215  0.239717   \n",
            "F15        0.569111  0.517432  0.540311  0.326375  ... -0.116853  0.444301   \n",
            "F16        0.196480  0.202540  0.511644  0.668894  ...  0.803830 -0.191134   \n",
            "F17        0.291174  0.125882  0.490794  0.630715  ...  0.951455  0.163840   \n",
            "F18        0.374436  0.478908  0.501795  0.387143  ...  0.047289 -0.087002   \n",
            "F19        0.454826  0.581554  0.865480  0.735011  ...  0.263258 -0.038623   \n",
            "F20        0.078002 -0.057574  0.037658  0.083288  ...  0.095421  0.430237   \n",
            "F21        0.281436  0.117321  0.523968  0.648869  ...  0.944995  0.156630   \n",
            "F22        0.237709  0.112663  0.448349  0.611714  ...  1.000000  0.081565   \n",
            "F23        0.361200  0.339360  0.164984  0.113273  ...  0.081565  1.000000   \n",
            "F24        0.418035  0.521912  0.818573  0.880653  ...  0.368037 -0.044535   \n",
            "F25        0.277729  0.183212  0.506778  0.471887  ...  0.114151  0.405510   \n",
            "F26        0.202340  0.210176  0.537510  0.679315  ...  0.749034 -0.243564   \n",
            "F27        0.039730  0.248467  0.257121  0.299400  ...  0.187092 -0.075974   \n",
            "F28        0.222953  0.228374  0.583536  0.713638  ...  0.753241 -0.228997   \n",
            "F29        0.170459  0.120212  0.500276  0.679675  ...  0.802692 -0.173831   \n",
            "F30        0.491856  0.550334  0.825494  0.856157  ...  0.519300 -0.099332   \n",
            "diagnosis  0.360607  0.420424  0.612290  0.691016  ...  0.535500 -0.091815   \n",
            "\n",
            "                F24       F25       F26       F27       F28       F29  \\\n",
            "Index      0.062603  0.054053  0.075473  0.072536  0.083133  0.072381   \n",
            "F1         0.570797  0.630562  0.326320  0.068094  0.359068  0.334977   \n",
            "F2         0.511501 -0.050336  0.969537  0.281647  0.966220  0.987094   \n",
            "F3         0.298302  0.045517  0.349677  0.908182  0.354636  0.318626   \n",
            "F4         0.545424 -0.016077  0.969520  0.288406  0.970507  0.986692   \n",
            "F5         0.018609  0.386911 -0.152792 -0.103741 -0.136766 -0.097331   \n",
            "F6         0.418035  0.277729  0.202340  0.039730  0.222953  0.170459   \n",
            "F7         0.521912  0.183212  0.210176  0.248467  0.228374  0.120212   \n",
            "F8         0.818573  0.506778  0.537510  0.257121  0.583536  0.500276   \n",
            "F9         0.880653  0.471887  0.679315  0.299400  0.713638  0.679675   \n",
            "F10        0.650462  0.762416  0.130449  0.081833  0.161620  0.152064   \n",
            "F11        0.739295  0.257497  0.829558  0.293345  0.852132  0.823160   \n",
            "F12        0.641070  0.802983  0.173219  0.149377  0.219181  0.182002   \n",
            "F13        0.685228  0.597808  0.078569  0.228625  0.113605 -0.008425   \n",
            "F14        0.412594  0.350194  0.161466  0.075811  0.188754  0.131129   \n",
            "F15        0.352917  0.687009 -0.276891 -0.037746 -0.237261 -0.302548   \n",
            "F16        0.530511 -0.031791  0.983841  0.344028  0.978816  0.958527   \n",
            "F17        0.366849  0.209278  0.713420  0.186120  0.717690  0.741652   \n",
            "F18        0.519811  0.135637  0.227048  0.226122  0.246402  0.126243   \n",
            "F19        0.880455  0.391150  0.465978  0.367797  0.508865  0.380076   \n",
            "F20       -0.057449  0.299380 -0.139056  0.410729 -0.132603 -0.095706   \n",
            "F21        0.393967  0.209529  0.699586  0.191149  0.719483  0.739008   \n",
            "F22        0.368037  0.114151  0.749034  0.187092  0.753241  0.802692   \n",
            "F23       -0.044535  0.405510 -0.243564 -0.075974 -0.228997 -0.173831   \n",
            "F24        1.000000  0.408069  0.559063  0.375064  0.593674  0.498019   \n",
            "F25        0.408069  1.000000 -0.046255  0.002044 -0.016716 -0.029255   \n",
            "F26        0.559063 -0.046255  1.000000  0.352365  0.994696  0.961717   \n",
            "F27        0.375064  0.002044  0.352365  1.000000  0.356532  0.276386   \n",
            "F28        0.593674 -0.016716  0.994696  0.356532  1.000000  0.959382   \n",
            "F29        0.498019 -0.029255  0.961717  0.276386  0.959382  1.000000   \n",
            "F30        0.853694  0.220364  0.779544  0.360558  0.806077  0.712975   \n",
            "diagnosis  0.655823  0.061756  0.770160  0.452060  0.775844  0.699521   \n",
            "\n",
            "                F30  diagnosis  \n",
            "Index      0.066628   0.069992  \n",
            "F1         0.595372   0.382164  \n",
            "F2         0.736397   0.724320  \n",
            "F3         0.289088   0.409289  \n",
            "F4         0.762361   0.736496  \n",
            "F5        -0.051812  -0.014406  \n",
            "F6         0.491856   0.360607  \n",
            "F7         0.550334   0.420424  \n",
            "F8         0.825494   0.612290  \n",
            "F9         0.856157   0.691016  \n",
            "F10        0.395539   0.203364  \n",
            "F11        0.906312   0.775765  \n",
            "F12        0.465854   0.275226  \n",
            "F13        0.508199   0.317557  \n",
            "F14        0.418307   0.330913  \n",
            "F15        0.168906  -0.025272  \n",
            "F16        0.738731   0.724211  \n",
            "F17        0.517894   0.562805  \n",
            "F18        0.500586   0.417622  \n",
            "F19        0.799318   0.598603  \n",
            "F20       -0.129857  -0.017631  \n",
            "F21        0.538372   0.551216  \n",
            "F22        0.519300   0.535500  \n",
            "F23       -0.099332  -0.091815  \n",
            "F24        0.853694   0.655823  \n",
            "F25        0.220364   0.061756  \n",
            "F26        0.779544   0.770160  \n",
            "F27        0.360558   0.452060  \n",
            "F28        0.806077   0.775844  \n",
            "F29        0.712975   0.699521  \n",
            "F30        1.000000   0.793440  \n",
            "diagnosis  0.793440   1.000000  \n",
            "\n",
            "[32 rows x 32 columns]\n",
            "diagnosis\n",
            "0    290\n",
            "1    165\n",
            "dtype: int64\n"
          ]
        },
        {
          "output_type": "stream",
          "name": "stderr",
          "text": [
            "/usr/local/lib/python3.8/dist-packages/seaborn/_decorators.py:36: FutureWarning: Pass the following variable as a keyword arg: x. From version 0.12, the only valid positional argument will be `data`, and passing other arguments without an explicit keyword will result in an error or misinterpretation.\n",
            "  warnings.warn(\n"
          ]
        },
        {
          "output_type": "display_data",
          "data": {
            "text/plain": [
              "<Figure size 864x720 with 2 Axes>"
            ],
            "image/png": "[encoded data removed]"
          },
          "metadata": {
            "needs_background": "light"
          }
        }
      ]
    },
    {
      "cell_type": "code",
      "source": [
        "x= dataframe.dtraininput(df)\n",
        "#print(x)\n",
        "y=dataframe.dtrainoutput(df)\n",
        "#print(y)"
      ],
      "metadata": {
        "id": "nL4_bMZ_YwW9"
      },
      "execution_count": null,
      "outputs": []
    },
    {
      "cell_type": "code",
      "source": [
        "x_train, x_test, y_train, y_test = train_test_split(x, y, test_size = 0.25, random_state = 1, shuffle = True)\n",
        "x_train.shape, x_test.shape, y_train.shape, y_test.shape"
      ],
      "metadata": {
        "colab": {
          "base_uri": "https://localhost:8080/"
        },
        "id": "Txb6fY9cY1QY",
        "outputId": "5b771522-957c-47c5-ddc9-858bd00d41d9"
      },
      "execution_count": null,
      "outputs": [
        {
          "output_type": "execute_result",
          "data": {
            "text/plain": [
              "((341, 30), (114, 30), (341,), (114,))"
            ]
          },
          "metadata": {},
          "execution_count": 8
        }
      ]
    },
    {
      "cell_type": "code",
      "source": [
        "classobj=Classification()\n",
        "\n",
        "llf=classobj.thirdmodel(x_train,y_train)#logistic\n",
        "knn=classobj.secoundmodel(x_train,y_train)\n",
        "nbais=classobj.bounsmodel2(x_train,y_train)#naivebias"
      ],
      "metadata": {
        "colab": {
          "base_uri": "https://localhost:8080/"
        },
        "id": "-UkGnwRPY3En",
        "outputId": "800a8473-db00-4707-f4cd-237b7e298205"
      },
      "execution_count": null,
      "outputs": [
        {
          "output_type": "stream",
          "name": "stderr",
          "text": [
            "/usr/local/lib/python3.8/dist-packages/sklearn/linear_model/_logistic.py:814: ConvergenceWarning: lbfgs failed to converge (status=1):\n",
            "STOP: TOTAL NO. of ITERATIONS REACHED LIMIT.\n",
            "\n",
            "Increase the number of iterations (max_iter) or scale the data as shown in:\n",
            "    https://scikit-learn.org/stable/modules/preprocessing.html\n",
            "Please also refer to the documentation for alternative solver options:\n",
            "    https://scikit-learn.org/stable/modules/linear_model.html#logistic-regression\n",
            "  n_iter_i = _check_optimize_result(\n"
          ]
        }
      ]
    },
    {
      "cell_type": "code",
      "source": [
        "testobj= Evaluation()\n",
        "KNNacc=testobj.tmodel(x_test,y_test,knn)\n",
        "logacc=testobj.tmodel(x_test,y_test,llf)\n",
        "nbacc=testobj.tmodel(x_test,y_test,nbais)"
      ],
      "metadata": {
        "id": "ZLvF-45wY44u"
      },
      "execution_count": null,
      "outputs": []
    },
    {
      "cell_type": "code",
      "source": [
        "print (\"logistic regression model accuracy is :  \")\n",
        "print (logacc)\n",
        "print (\"KNN model accuracy is :  \")\n",
        "print (KNNacc)\n",
        "print (\"Naive Bayes model accuracy is :  \")\n",
        "print (nbacc)"
      ],
      "metadata": {
        "colab": {
          "base_uri": "https://localhost:8080/"
        },
        "id": "K4L1PkezY6l8",
        "outputId": "4e3eccc1-6334-471b-c603-5360b897e746"
      },
      "execution_count": null,
      "outputs": [
        {
          "output_type": "stream",
          "name": "stdout",
          "text": [
            "logistic regression model accuracy is :  \n",
            "0.9385964912280702\n",
            "KNN model accuracy is :  \n",
            "0.9298245614035088\n",
            "Naive Bayes model accuracy is :  \n",
            "0.956140350877193\n"
          ]
        }
      ]
    },
    {
      "cell_type": "code",
      "source": [
        "VotingClassifierModel = VotingClassifier(estimators=[('llf',llf),('knn',knn),('nbais',nbais)], voting='hard')\n",
        "VotingClassifierModel.fit(x_train,y_train)\n",
        "myprediction = VotingClassifierModel.predict(x_test)\n",
        "print (myprediction)"
      ],
      "metadata": {
        "colab": {
          "base_uri": "https://localhost:8080/"
        },
        "id": "mdH8Bt3iwjvd",
        "outputId": "0afafc1f-8a5d-4dbe-b085-40a8a934b841"
      },
      "execution_count": null,
      "outputs": [
        {
          "output_type": "stream",
          "name": "stdout",
          "text": [
            "[0 0 0 1 0 0 1 0 1 0 0 1 1 1 0 1 0 0 0 0 0 0 0 0 1 0 1 1 0 1 0 0 0 0 0 0 0\n",
            " 0 1 0 1 0 0 0 0 0 1 0 1 0 0 1 0 0 0 0 0 1 0 1 0 0 0 1 0 0 0 0 0 1 0 1 0 1\n",
            " 1 1 0 1 1 0 0 0 0 1 0 0 1 1 0 0 0 0 0 1 0 0 1 1 0 1 1 1 0 0 1 0 0 0 0 1 1\n",
            " 0 0 1]\n"
          ]
        },
        {
          "output_type": "stream",
          "name": "stderr",
          "text": [
            "/usr/local/lib/python3.8/dist-packages/sklearn/linear_model/_logistic.py:814: ConvergenceWarning: lbfgs failed to converge (status=1):\n",
            "STOP: TOTAL NO. of ITERATIONS REACHED LIMIT.\n",
            "\n",
            "Increase the number of iterations (max_iter) or scale the data as shown in:\n",
            "    https://scikit-learn.org/stable/modules/preprocessing.html\n",
            "Please also refer to the documentation for alternative solver options:\n",
            "    https://scikit-learn.org/stable/modules/linear_model.html#logistic-regression\n",
            "  n_iter_i = _check_optimize_result(\n"
          ]
        }
      ]
    },
    {
      "cell_type": "code",
      "source": [
        "infile=\"/content/Tumor Cancer Test data.csv\""
      ],
      "metadata": {
        "id": "q3E39ylN_nvT"
      },
      "execution_count": null,
      "outputs": []
    },
    {
      "cell_type": "code",
      "source": [
        "inobj=Input()\n",
        "\n",
        "\n",
        "mydata,naiveprediction=inobj.input(infile,nbais)\n",
        "mydata,logosticprediction=inobj.input(infile,llf)\n",
        "mydata,knnprediction=inobj.input(infile,knn)\n",
        "\n",
        "print(naiveprediction)\n",
        "print(logosticprediction)\n",
        "print(knnprediction)\n",
        "\n",
        "\n",
        "\n"
      ],
      "metadata": {
        "colab": {
          "base_uri": "https://localhost:8080/"
        },
        "id": "6bvt4xok_ReG",
        "outputId": "44ef7cb7-c7aa-4671-9c04-10af70eb3630"
      },
      "execution_count": null,
      "outputs": [
        {
          "output_type": "stream",
          "name": "stdout",
          "text": [
            "[1 0 0 1 0 0]\n",
            "[1 0 0 1 0 0]\n",
            "[1 0 0 1 0 0]\n"
          ]
        }
      ]
    },
    {
      "cell_type": "code",
      "source": [
        "\n",
        "prediction2 = VotingClassifierModel.predict(mydata)\n",
        "print('Prediction Of The Enterd Data is : ' ,prediction2)\n"
      ],
      "metadata": {
        "id": "kO49zx7mplNz",
        "colab": {
          "base_uri": "https://localhost:8080/"
        },
        "outputId": "9be34bb8-8dc8-41d6-878f-ca5b16c979b3"
      },
      "execution_count": null,
      "outputs": [
        {
          "output_type": "stream",
          "name": "stdout",
          "text": [
            "Prediction Of The Enterd Data is :  [1 0 0 1 0 0]\n"
          ]
        }
      ]
    }
  ]
}